{
 "cells": [
  {
   "cell_type": "markdown",
   "id": "57f0d212",
   "metadata": {},
   "source": [
    "# 用代数学变换求解\n"
   ]
  },
  {
   "cell_type": "markdown",
   "id": "3107bd1c",
   "metadata": {},
   "source": [
    "## 一元二次方程的通解\n",
    "\n",
    "对于下面的方程：\n",
    "\n",
    "$ax + b = cx +d$\n",
    "\n",
    "其通解为：\n",
    "\n",
    "$x = \\frac{d-b}{a-c}$\n"
   ]
  },
  {
   "cell_type": "code",
   "execution_count": 1,
   "id": "48e66534",
   "metadata": {},
   "outputs": [
    {
     "data": {
      "text/plain": [
       "1.065217391304348"
      ]
     },
     "execution_count": 1,
     "metadata": {},
     "output_type": "execute_result"
    }
   ],
   "source": [
    "def equation(a,b,c,d):\n",
    "    '''解 ax+b=cx+d 形式的方程'''\n",
    "    return (d-b)/(a-c)\n",
    "\n",
    "# 练习 4-1\n",
    "x = equation(12,18,-34,67)\n",
    "x"
   ]
  },
  {
   "cell_type": "code",
   "execution_count": 2,
   "id": "4326a017",
   "metadata": {},
   "outputs": [
    {
     "data": {
      "text/plain": [
       "0.6944444444444446"
      ]
     },
     "execution_count": 2,
     "metadata": {},
     "output_type": "execute_result"
    }
   ],
   "source": [
    "# 练习 4-2\n",
    "x = equation(1/2,2/3,1/5,7/8)\n",
    "x"
   ]
  },
  {
   "cell_type": "markdown",
   "id": "0352dc2d",
   "metadata": {},
   "source": [
    "## 解一元二次方程\n",
    "\n",
    "编写一个函数 `quad()` 解下面这个二次方程：\n",
    "\n",
    "$2x^2+7x-15=0$\n"
   ]
  },
  {
   "cell_type": "code",
   "execution_count": 3,
   "id": "9d3b114f",
   "metadata": {},
   "outputs": [
    {
     "data": {
      "text/plain": [
       "(1.5, -5.0)"
      ]
     },
     "execution_count": 3,
     "metadata": {},
     "output_type": "execute_result"
    }
   ],
   "source": [
    "from math import sqrt\n",
    "def quad(a,b,c):\n",
    "    '''返回 a*x**2 + b*x + c = 0 形式方程的解'''\n",
    "    x1 = (-b + sqrt(b**2 - 4*a*c))/(2*a)\n",
    "    x2 = (-b - sqrt(b**2 - 4*a*c))/(2*a)\n",
    "    return x1,x2\n",
    "\n",
    "quad(2,7,-15)"
   ]
  },
  {
   "cell_type": "markdown",
   "id": "21546c77",
   "metadata": {},
   "source": [
    "## 蛮力法解三次方程\n",
    "\n",
    "对于 $6x^3+31x^2+3x-10=0$ 这样的三次方程（cubic equation），可以通过代数法蛮力求解。\n",
    "\n",
    "计算机很快，试出来了答案。这就是“大力出奇迹”。"
   ]
  },
  {
   "cell_type": "code",
   "execution_count": 4,
   "id": "2e59d511",
   "metadata": {},
   "outputs": [
    {
     "name": "stdout",
     "output_type": "stream",
     "text": [
      "x =  -5\n",
      "done.\n"
     ]
    }
   ],
   "source": [
    "def g(x):\n",
    "    return 6*x**3 + 31*x**2 + 3*x - 10\n",
    "\n",
    "def plug():\n",
    "    x = -100\n",
    "    while x < 100:\n",
    "        if g(x) == 0:\n",
    "            print(\"x = \", x)\n",
    "        x += 1\n",
    "    print(\"done.\")\n",
    "    \n",
    "plug()"
   ]
  },
  {
   "cell_type": "markdown",
   "id": "ed129c58",
   "metadata": {},
   "source": [
    "## 数形结合\n",
    "\n",
    "在坐标系上画出函数的图形，可以定位到方程的解。\n"
   ]
  },
  {
   "cell_type": "code",
   "execution_count": 5,
   "id": "908ec2be",
   "metadata": {},
   "outputs": [
    {
     "data": {
      "image/png": "[encoded data removed]",
      "text/plain": [
       "<Figure size 640x480 with 1 Axes>"
      ]
     },
     "metadata": {},
     "output_type": "display_data"
    }
   ],
   "source": [
    "# Import libraries\n",
    "import matplotlib.pyplot as plt\n",
    "import numpy as np\n",
    "%matplotlib inline\n",
    "\n",
    "def g(x):\n",
    "    return 2*x**2 + 7*x -15\n",
    "\n",
    "# Creating vectors X and Y\n",
    "x = np.linspace(-10, 6, 100)\n",
    "y = g(x)\n",
    "\n",
    "# Create the plot\n",
    "plt.plot(x, y)\n",
    "plt.hlines(0, -10, 6, color = 'red', linestyle = 'dashed')\n",
    "plt.grid(which=\"both\")"
   ]
  },
  {
   "cell_type": "code",
   "execution_count": 6,
   "id": "6ef3b049",
   "metadata": {},
   "outputs": [
    {
     "data": {
      "text/plain": [
       "0"
      ]
     },
     "execution_count": 6,
     "metadata": {},
     "output_type": "execute_result"
    }
   ],
   "source": [
    "g(-5)"
   ]
  },
  {
   "cell_type": "code",
   "execution_count": 7,
   "id": "fb32674e",
   "metadata": {},
   "outputs": [
    {
     "data": {
      "text/plain": [
       "0.0"
      ]
     },
     "execution_count": 7,
     "metadata": {},
     "output_type": "execute_result"
    }
   ],
   "source": [
    "g(1.5)"
   ]
  }
 ],
 "metadata": {
  "kernelspec": {
   "display_name": "Python 3 (ipykernel)",
   "language": "python",
   "name": "python3"
  },
  "language_info": {
   "codemirror_mode": {
    "name": "ipython",
    "version": 3
   },
   "file_extension": ".py",
   "mimetype": "text/x-python",
   "name": "python",
   "nbconvert_exporter": "python",
   "pygments_lexer": "ipython3",
   "version": "3.11.4"
  }
 },
 "nbformat": 4,
 "nbformat_minor": 5
}
