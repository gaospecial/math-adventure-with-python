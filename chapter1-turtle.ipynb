{
 "cells": [
  {
   "cell_type": "markdown",
   "id": "c0cba5c7",
   "metadata": {},
   "source": [
    "# 第一章 Turtle 模块\n",
    "\n"
   ]
  },
  {
   "cell_type": "code",
   "execution_count": 1,
   "id": "e222d080",
   "metadata": {},
   "outputs": [],
   "source": [
    "# 导入 turtle 模块\n",
    "from turtle import *"
   ]
  },
  {
   "cell_type": "code",
   "execution_count": 2,
   "id": "a00c0dfa",
   "metadata": {},
   "outputs": [],
   "source": [
    "# 让小海龟动起来\n",
    "forward(100)\n",
    "\n",
    "# 把箭头改为海龟\n",
    "shape(\"turtle\")\n",
    "\n",
    "# 改变方向\n",
    "right(45)\n",
    "forward(100)"
   ]
  },
  {
   "cell_type": "markdown",
   "id": "1ad58a1b",
   "metadata": {},
   "source": [
    "## 练习 1-3：方块舞"
   ]
  },
  {
   "cell_type": "code",
   "execution_count": 3,
   "id": "c496607d",
   "metadata": {},
   "outputs": [],
   "source": [
    "# 画一个正方形\n",
    "def square(sidelength):\n",
    "    for i in range(4):\n",
    "        forward(sidelength)\n",
    "        right(90)\n",
    "        \n",
    "        "
   ]
  },
  {
   "cell_type": "code",
   "execution_count": 5,
   "id": "c3d5a7c1",
   "metadata": {},
   "outputs": [],
   "source": [
    "# 不同边长的正方形\n",
    "square(100)\n",
    "square(200)"
   ]
  },
  {
   "cell_type": "markdown",
   "id": "349a319a",
   "metadata": {},
   "source": [
    "## 练习 1-2：一圈方块"
   ]
  },
  {
   "cell_type": "code",
   "execution_count": 6,
   "id": "7097fbc2",
   "metadata": {},
   "outputs": [],
   "source": [
    "# 编写函数画出 60 个正方形，每画一个就右转 5 度\n",
    "for i in range(60):\n",
    "    # speed(1) 是最慢的速度\n",
    "    speed(1)\n",
    "    square(100)\n",
    "    right(5)"
   ]
  },
  {
   "cell_type": "code",
   "execution_count": 10,
   "id": "3e302f53",
   "metadata": {},
   "outputs": [],
   "source": [
    "# 画等边三角形\n",
    "def triangle(sidelength):\n",
    "    speed(1)\n",
    "    for i in range(3):\n",
    "        forward(sidelength)\n",
    "        right(120)"
   ]
  },
  {
   "cell_type": "code",
   "execution_count": 11,
   "id": "39aeef42",
   "metadata": {},
   "outputs": [],
   "source": [
    "# 画一个边长为 200 的等边三角形\n",
    "triangle(200)"
   ]
  },
  {
   "cell_type": "markdown",
   "id": "074babd8",
   "metadata": {},
   "source": [
    "## 练习 1-4：多边形函数"
   ]
  },
  {
   "cell_type": "code",
   "execution_count": 58,
   "id": "e37ed962",
   "metadata": {},
   "outputs": [],
   "source": [
    "# 画一个多边形\n",
    "def polygon(n = 6, sidelength = 100):\n",
    "    speed(1)\n",
    "    for i in range(n):\n",
    "        forward(sidelength)\n",
    "        right(360/n)"
   ]
  },
  {
   "cell_type": "code",
   "execution_count": 59,
   "id": "bd35c64d",
   "metadata": {},
   "outputs": [],
   "source": [
    "# 画一个五边形\n",
    "polygon(5)\n",
    "\n",
    "# 画一个六边形\n",
    "polygon(6,80)\n",
    "\n",
    "\n",
    "# 画一个十二边形\n",
    "polygon(12,60)\n",
    "\n",
    "\n",
    "# 画一个二十边形\n",
    "polygon(20,40)\n"
   ]
  },
  {
   "cell_type": "markdown",
   "id": "153d1e57",
   "metadata": {},
   "source": [
    "## 练习 1-5：海龟螺旋"
   ]
  },
  {
   "cell_type": "code",
   "execution_count": 17,
   "id": "8c71ff79",
   "metadata": {},
   "outputs": [],
   "source": [
    "# 让边长不断增长\n",
    "len = 100\n",
    "for i in range(60):\n",
    "    # speed(1) 是最慢的速度\n",
    "    speed(10)\n",
    "    square(len)\n",
    "    right(5)\n",
    "    len += 5"
   ]
  },
  {
   "cell_type": "markdown",
   "id": "886d57d4",
   "metadata": {},
   "source": [
    "## 练习 1-6：新星出世\n",
    "\n",
    "多边形内角和公示：\n",
    "\n",
    "$(n-2) \\times 180$\n",
    "\n",
    "其中 n 是多边形边的数目。\n",
    "\n",
    "对于五角星来说，五个锐角的和是 180 度。"
   ]
  },
  {
   "cell_type": "code",
   "execution_count": 75,
   "id": "6832a6cc",
   "metadata": {},
   "outputs": [],
   "source": [
    "# 画五角星\n",
    "def star(len = 100):\n",
    "    for i in range(5):\n",
    "        forward(len)\n",
    "        # 五角星是十边形，内角和为 (10-2)* 180 度，5 个锐角的和是 180 度\n",
    "        right(180-(180/5))"
   ]
  },
  {
   "cell_type": "code",
   "execution_count": 76,
   "id": "e956be19",
   "metadata": {},
   "outputs": [],
   "source": [
    "clear()\n",
    "speed(5)\n",
    "star()"
   ]
  },
  {
   "cell_type": "code",
   "execution_count": 81,
   "id": "3546e77a",
   "metadata": {},
   "outputs": [],
   "source": [
    "def starSpiral(len = 100):\n",
    "    for i in range(30):\n",
    "        star(len+i*10)\n",
    "        right(10)"
   ]
  },
  {
   "cell_type": "code",
   "execution_count": 82,
   "id": "bd14a750",
   "metadata": {},
   "outputs": [],
   "source": [
    "home()\n",
    "clear()\n",
    "starSpiral()"
   ]
  }
 ],
 "metadata": {
  "kernelspec": {
   "display_name": "Python 3 (ipykernel)",
   "language": "python",
   "name": "python3"
  },
  "language_info": {
   "codemirror_mode": {
    "name": "ipython",
    "version": 3
   },
   "file_extension": ".py",
   "mimetype": "text/x-python",
   "name": "python",
   "nbconvert_exporter": "python",
   "pygments_lexer": "ipython3",
   "version": "3.11.4"
  }
 },
 "nbformat": 4,
 "nbformat_minor": 5
}
