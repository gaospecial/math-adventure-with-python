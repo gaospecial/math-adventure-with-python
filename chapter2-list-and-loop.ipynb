{
 "cells": [
  {
   "cell_type": "markdown",
   "id": "323d46f7",
   "metadata": {},
   "source": [
    "# 第二章 Python 基本语法\n"
   ]
  },
  {
   "cell_type": "markdown",
   "id": "96b26f06",
   "metadata": {},
   "source": [
    "## 数据类型\n",
    "\n",
    "### 整数与浮点数\n"
   ]
  },
  {
   "cell_type": "code",
   "execution_count": 1,
   "id": "bc1223b8",
   "metadata": {},
   "outputs": [
    {
     "data": {
      "text/plain": [
       "3"
      ]
     },
     "execution_count": 1,
     "metadata": {},
     "output_type": "execute_result"
    }
   ],
   "source": [
    "# 整数\n",
    "x = 3\n",
    "x"
   ]
  },
  {
   "cell_type": "code",
   "execution_count": 2,
   "id": "37aeada2",
   "metadata": {},
   "outputs": [
    {
     "data": {
      "text/plain": [
       "3.0"
      ]
     },
     "execution_count": 2,
     "metadata": {},
     "output_type": "execute_result"
    }
   ],
   "source": [
    "# 浮点数\n",
    "y = float(x)\n",
    "y"
   ]
  },
  {
   "cell_type": "code",
   "execution_count": 3,
   "id": "98babb9a",
   "metadata": {},
   "outputs": [
    {
     "data": {
      "text/plain": [
       "3"
      ]
     },
     "execution_count": 3,
     "metadata": {},
     "output_type": "execute_result"
    }
   ],
   "source": [
    "# 整数\n",
    "z = int(y)\n",
    "z"
   ]
  },
  {
   "cell_type": "markdown",
   "id": "cda7f16d",
   "metadata": {},
   "source": [
    "### 字符串\n",
    "\n"
   ]
  },
  {
   "cell_type": "code",
   "execution_count": 4,
   "id": "f3f541af",
   "metadata": {},
   "outputs": [],
   "source": [
    "a = \"Hello\""
   ]
  },
  {
   "cell_type": "code",
   "execution_count": 5,
   "id": "a795be02",
   "metadata": {},
   "outputs": [
    {
     "data": {
      "text/plain": [
       "'HelloHello'"
      ]
     },
     "execution_count": 5,
     "metadata": {},
     "output_type": "execute_result"
    }
   ],
   "source": [
    "# 字符串相加\n",
    "a + a"
   ]
  },
  {
   "cell_type": "code",
   "execution_count": 6,
   "id": "f05ea47b",
   "metadata": {},
   "outputs": [
    {
     "data": {
      "text/plain": [
       "'HelloHelloHelloHello'"
      ]
     },
     "execution_count": 6,
     "metadata": {},
     "output_type": "execute_result"
    }
   ],
   "source": [
    "# 字符串相乘\n",
    "4 * a"
   ]
  },
  {
   "cell_type": "code",
   "execution_count": 7,
   "id": "26f56932",
   "metadata": {},
   "outputs": [
    {
     "data": {
      "text/plain": [
       "'HelloHelloHelloHello'"
      ]
     },
     "execution_count": 7,
     "metadata": {},
     "output_type": "execute_result"
    }
   ],
   "source": [
    "a * 4"
   ]
  },
  {
   "cell_type": "code",
   "execution_count": 8,
   "id": "cf8fe87c",
   "metadata": {},
   "outputs": [],
   "source": [
    "# 字符串和数字不能相加\n",
    "# a + 4"
   ]
  },
  {
   "cell_type": "markdown",
   "id": "dd1d87b4",
   "metadata": {},
   "source": [
    "### 查看数据类型\n"
   ]
  },
  {
   "cell_type": "code",
   "execution_count": 9,
   "id": "8af83282",
   "metadata": {},
   "outputs": [
    {
     "data": {
      "text/plain": [
       "int"
      ]
     },
     "execution_count": 9,
     "metadata": {},
     "output_type": "execute_result"
    }
   ],
   "source": [
    "a = 2\n",
    "type(a)"
   ]
  },
  {
   "cell_type": "code",
   "execution_count": 10,
   "id": "82510810",
   "metadata": {},
   "outputs": [
    {
     "data": {
      "text/plain": [
       "float"
      ]
     },
     "execution_count": 10,
     "metadata": {},
     "output_type": "execute_result"
    }
   ],
   "source": [
    "b = 2.0\n",
    "type(b)"
   ]
  },
  {
   "cell_type": "code",
   "execution_count": 11,
   "id": "d6e89af7",
   "metadata": {},
   "outputs": [
    {
     "data": {
      "text/plain": [
       "bool"
      ]
     },
     "execution_count": 11,
     "metadata": {},
     "output_type": "execute_result"
    }
   ],
   "source": [
    "c = True\n",
    "type(c)"
   ]
  },
  {
   "cell_type": "code",
   "execution_count": 12,
   "id": "e984a4c0",
   "metadata": {},
   "outputs": [
    {
     "data": {
      "text/plain": [
       "str"
      ]
     },
     "execution_count": 12,
     "metadata": {},
     "output_type": "execute_result"
    }
   ],
   "source": [
    "d = \"Hello\"\n",
    "type(d)"
   ]
  },
  {
   "cell_type": "markdown",
   "id": "3a33a5a5",
   "metadata": {},
   "source": [
    "## 列表\n",
    "\n",
    "列表（list）是可以容纳多个值的变量类型。\n"
   ]
  },
  {
   "cell_type": "code",
   "execution_count": 13,
   "id": "b6a4c2d0",
   "metadata": {},
   "outputs": [
    {
     "data": {
      "text/plain": [
       "[1, 2, 3]"
      ]
     },
     "execution_count": 13,
     "metadata": {},
     "output_type": "execute_result"
    }
   ],
   "source": [
    "a = [1, 2, 3]\n",
    "a"
   ]
  },
  {
   "cell_type": "code",
   "execution_count": 14,
   "id": "7c2226bf",
   "metadata": {},
   "outputs": [
    {
     "data": {
      "text/plain": [
       "[]"
      ]
     },
     "execution_count": 14,
     "metadata": {},
     "output_type": "execute_result"
    }
   ],
   "source": [
    "b = []\n",
    "b"
   ]
  },
  {
   "cell_type": "code",
   "execution_count": 15,
   "id": "71805745",
   "metadata": {},
   "outputs": [
    {
     "data": {
      "text/plain": [
       "[4]"
      ]
     },
     "execution_count": 15,
     "metadata": {},
     "output_type": "execute_result"
    }
   ],
   "source": [
    "b.append(4)\n",
    "b"
   ]
  },
  {
   "cell_type": "code",
   "execution_count": 16,
   "id": "54e2903f",
   "metadata": {},
   "outputs": [
    {
     "data": {
      "text/plain": [
       "[4, 5]"
      ]
     },
     "execution_count": 16,
     "metadata": {},
     "output_type": "execute_result"
    }
   ],
   "source": [
    "b.append(5)\n",
    "b"
   ]
  },
  {
   "cell_type": "code",
   "execution_count": 17,
   "id": "4c866428",
   "metadata": {},
   "outputs": [
    {
     "data": {
      "text/plain": [
       "[4, 5, True]"
      ]
     },
     "execution_count": 17,
     "metadata": {},
     "output_type": "execute_result"
    }
   ],
   "source": [
    "b.append(True)\n",
    "b"
   ]
  },
  {
   "cell_type": "code",
   "execution_count": 18,
   "id": "6b15671b",
   "metadata": {},
   "outputs": [
    {
     "data": {
      "text/plain": [
       "[4, 5, True, 'Hello']"
      ]
     },
     "execution_count": 18,
     "metadata": {},
     "output_type": "execute_result"
    }
   ],
   "source": [
    "b.append(\"Hello\")\n",
    "b"
   ]
  },
  {
   "cell_type": "code",
   "execution_count": 19,
   "id": "658913d6",
   "metadata": {},
   "outputs": [
    {
     "data": {
      "text/plain": [
       "[7, True, 8, 'Python']"
      ]
     },
     "execution_count": 19,
     "metadata": {},
     "output_type": "execute_result"
    }
   ],
   "source": [
    "# 列表相加\n",
    "c = [7, True]\n",
    "d = [8, 'Python']\n",
    "c + d"
   ]
  },
  {
   "cell_type": "code",
   "execution_count": 20,
   "id": "1ab68b43",
   "metadata": {},
   "outputs": [
    {
     "data": {
      "text/plain": [
       "[8, 'Python', 8, 'Python']"
      ]
     },
     "execution_count": 20,
     "metadata": {},
     "output_type": "execute_result"
    }
   ],
   "source": [
    "# 整数乘以列表\n",
    "2 * d"
   ]
  },
  {
   "cell_type": "code",
   "execution_count": 21,
   "id": "31a13667",
   "metadata": {},
   "outputs": [
    {
     "data": {
      "text/plain": [
       "[8, 'Python', 8, 'Python']"
      ]
     },
     "execution_count": 21,
     "metadata": {},
     "output_type": "execute_result"
    }
   ],
   "source": [
    "# 会将列表长度增加\n",
    "d * 2"
   ]
  },
  {
   "cell_type": "code",
   "execution_count": 22,
   "id": "07cefb13",
   "metadata": {},
   "outputs": [],
   "source": [
    "# 仍然不能加上一个数字\n",
    "# d + 2"
   ]
  },
  {
   "cell_type": "code",
   "execution_count": 23,
   "id": "3641354d",
   "metadata": {},
   "outputs": [
    {
     "data": {
      "text/plain": [
       "[4, True, 'Hello']"
      ]
     },
     "execution_count": 23,
     "metadata": {},
     "output_type": "execute_result"
    }
   ],
   "source": [
    "# 从列表中删除项\n",
    "b.remove(5)\n",
    "b"
   ]
  },
  {
   "cell_type": "markdown",
   "id": "45198641",
   "metadata": {},
   "source": [
    "### 访问列表元素\n"
   ]
  },
  {
   "cell_type": "code",
   "execution_count": 24,
   "id": "324d82e8",
   "metadata": {},
   "outputs": [
    {
     "name": "stdout",
     "output_type": "stream",
     "text": [
      "Abe 55\n"
     ]
    }
   ],
   "source": [
    "name_list = [\"Abe\",\"Bob\",\"Chloe\",\"Daphne\"]\n",
    "score_list = [55, 63,72,54]\n",
    "\n",
    "# 列表第一项的索引是 0\n",
    "print(name_list[0], score_list[0])"
   ]
  },
  {
   "cell_type": "code",
   "execution_count": 27,
   "id": "5b3ec3f6",
   "metadata": {},
   "outputs": [
    {
     "data": {
      "text/plain": [
       "4"
      ]
     },
     "execution_count": 27,
     "metadata": {},
     "output_type": "execute_result"
    }
   ],
   "source": [
    "# 列表的长度\n",
    "len(name_list)"
   ]
  },
  {
   "cell_type": "code",
   "execution_count": 26,
   "id": "c062f948",
   "metadata": {},
   "outputs": [
    {
     "name": "stdout",
     "output_type": "stream",
     "text": [
      "Abe 55\n",
      "Bob 63\n",
      "Chloe 72\n",
      "Daphne 54\n"
     ]
    }
   ],
   "source": [
    "# 使用索引访问列表\n",
    "for i in range(len(name_list)):\n",
    "    print(name_list[i], score_list[i])"
   ]
  },
  {
   "cell_type": "code",
   "execution_count": 29,
   "id": "703f5e84",
   "metadata": {},
   "outputs": [
    {
     "name": "stdout",
     "output_type": "stream",
     "text": [
      "Abe has index 0\n",
      "Bob has index 1\n",
      "Chloe has index 2\n",
      "Daphne has index 3\n"
     ]
    }
   ],
   "source": [
    "# 通过 `enumerate()` 函数获取索引和值\n",
    "for i, name in enumerate(name_list):\n",
    "    print(name, \"has index\", i)"
   ]
  },
  {
   "cell_type": "code",
   "execution_count": 30,
   "id": "11e678b1",
   "metadata": {},
   "outputs": [
    {
     "data": {
      "text/plain": [
       "[2, 3, 4, 5, 6]"
      ]
     },
     "execution_count": 30,
     "metadata": {},
     "output_type": "execute_result"
    }
   ],
   "source": [
    "# 范围语法访问列表时，包括第一个元素，不包括最后一个元素\n",
    "myList = [1,2,3,4,5,6,7]\n",
    "myList[1:6]"
   ]
  },
  {
   "cell_type": "code",
   "execution_count": 31,
   "id": "d54d190d",
   "metadata": {},
   "outputs": [
    {
     "data": {
      "text/plain": [
       "[1, 2, 3]"
      ]
     },
     "execution_count": 31,
     "metadata": {},
     "output_type": "execute_result"
    }
   ],
   "source": [
    "myList[:3]"
   ]
  },
  {
   "cell_type": "code",
   "execution_count": 32,
   "id": "a352cbda",
   "metadata": {},
   "outputs": [
    {
     "data": {
      "text/plain": [
       "[4, 5, 6, 7]"
      ]
     },
     "execution_count": 32,
     "metadata": {},
     "output_type": "execute_result"
    }
   ],
   "source": [
    "myList[3:]"
   ]
  },
  {
   "cell_type": "code",
   "execution_count": 33,
   "id": "77927bc5",
   "metadata": {},
   "outputs": [
    {
     "data": {
      "text/plain": [
       "7"
      ]
     },
     "execution_count": 33,
     "metadata": {},
     "output_type": "execute_result"
    }
   ],
   "source": [
    "# 负值索引时第一个元素是 -1\n",
    "myList[-1]"
   ]
  },
  {
   "cell_type": "code",
   "execution_count": 34,
   "id": "0e2576f1",
   "metadata": {},
   "outputs": [
    {
     "data": {
      "text/plain": [
       "1"
      ]
     },
     "execution_count": 34,
     "metadata": {},
     "output_type": "execute_result"
    }
   ],
   "source": [
    "# 而不是 -0\n",
    "myList[-0]"
   ]
  },
  {
   "cell_type": "code",
   "execution_count": 35,
   "id": "1b14ed0f",
   "metadata": {},
   "outputs": [
    {
     "data": {
      "text/plain": [
       "True"
      ]
     },
     "execution_count": 35,
     "metadata": {},
     "output_type": "execute_result"
    }
   ],
   "source": [
    "# 是否存在 3\n",
    "3 in myList"
   ]
  },
  {
   "cell_type": "code",
   "execution_count": 36,
   "id": "9e647587",
   "metadata": {},
   "outputs": [
    {
     "data": {
      "text/plain": [
       "False"
      ]
     },
     "execution_count": 36,
     "metadata": {},
     "output_type": "execute_result"
    }
   ],
   "source": [
    "# 不存在 10\n",
    "10 in myList"
   ]
  },
  {
   "cell_type": "code",
   "execution_count": 37,
   "id": "fa8f84d4",
   "metadata": {},
   "outputs": [
    {
     "data": {
      "text/plain": [
       "6"
      ]
     },
     "execution_count": 37,
     "metadata": {},
     "output_type": "execute_result"
    }
   ],
   "source": [
    "# 字符串也有索引\n",
    "d = 'Python'\n",
    "len(d)"
   ]
  },
  {
   "cell_type": "code",
   "execution_count": 38,
   "id": "f0a14ec2",
   "metadata": {},
   "outputs": [
    {
     "data": {
      "text/plain": [
       "'y'"
      ]
     },
     "execution_count": 38,
     "metadata": {},
     "output_type": "execute_result"
    }
   ],
   "source": [
    "d[1]"
   ]
  },
  {
   "cell_type": "code",
   "execution_count": 39,
   "id": "b1bdaaf5",
   "metadata": {},
   "outputs": [
    {
     "data": {
      "text/plain": [
       "'ho'"
      ]
     },
     "execution_count": 39,
     "metadata": {},
     "output_type": "execute_result"
    }
   ],
   "source": [
    "d[3:5]"
   ]
  },
  {
   "cell_type": "markdown",
   "id": "cd30f6a5",
   "metadata": {},
   "source": [
    "## 练习\n",
    "\n",
    "### 练习 2-1：求和\n"
   ]
  },
  {
   "cell_type": "code",
   "execution_count": 43,
   "id": "6eb3f2df",
   "metadata": {},
   "outputs": [
    {
     "data": {
      "text/plain": [
       "5050"
      ]
     },
     "execution_count": 43,
     "metadata": {},
     "output_type": "execute_result"
    }
   ],
   "source": [
    "# 1 - 100 整数的和\n",
    "sum(range(1,100))"
   ]
  },
  {
   "cell_type": "code",
   "execution_count": 48,
   "id": "2c6b36f9",
   "metadata": {},
   "outputs": [],
   "source": [
    "def mySum(num):\n",
    "    runing_sum = 0\n",
    "    for i in range(1,num+1):\n",
    "        runing_sum += i\n",
    "    return runing_sum"
   ]
  },
  {
   "cell_type": "code",
   "execution_count": 49,
   "id": "20e01e33",
   "metadata": {},
   "outputs": [
    {
     "data": {
      "text/plain": [
       "5050"
      ]
     },
     "execution_count": 49,
     "metadata": {},
     "output_type": "execute_result"
    }
   ],
   "source": [
    "# 求和\n",
    "mySum(100)"
   ]
  },
  {
   "cell_type": "code",
   "execution_count": 50,
   "id": "e0efad3d",
   "metadata": {},
   "outputs": [
    {
     "data": {
      "text/plain": [
       "500500"
      ]
     },
     "execution_count": 50,
     "metadata": {},
     "output_type": "execute_result"
    }
   ],
   "source": [
    "mySum(1000)"
   ]
  },
  {
   "cell_type": "code",
   "execution_count": 51,
   "id": "f654e6b0",
   "metadata": {},
   "outputs": [
    {
     "data": {
      "text/plain": [
       "50005000"
      ]
     },
     "execution_count": 51,
     "metadata": {},
     "output_type": "execute_result"
    }
   ],
   "source": [
    "mySum(10000)"
   ]
  },
  {
   "cell_type": "markdown",
   "id": "36b1aa24",
   "metadata": {},
   "source": [
    "### 练习 2-2：求平均值\n"
   ]
  },
  {
   "cell_type": "code",
   "execution_count": 52,
   "id": "fd2f4dd4",
   "metadata": {},
   "outputs": [],
   "source": [
    "def average3(numList):\n",
    "    return(sum(numList)/len(numList))"
   ]
  },
  {
   "cell_type": "code",
   "execution_count": 53,
   "id": "3a598b11",
   "metadata": {},
   "outputs": [
    {
     "data": {
      "text/plain": [
       "55.5"
      ]
     },
     "execution_count": 53,
     "metadata": {},
     "output_type": "execute_result"
    }
   ],
   "source": [
    "d = [53, 54, 55, 56, 57, 58]\n",
    "average3(d)"
   ]
  },
  {
   "cell_type": "code",
   "execution_count": null,
   "id": "5b311edc",
   "metadata": {},
   "outputs": [],
   "source": []
  }
 ],
 "metadata": {
  "kernelspec": {
   "display_name": "Python 3 (ipykernel)",
   "language": "python",
   "name": "python3"
  },
  "language_info": {
   "codemirror_mode": {
    "name": "ipython",
    "version": 3
   },
   "file_extension": ".py",
   "mimetype": "text/x-python",
   "name": "python",
   "nbconvert_exporter": "python",
   "pygments_lexer": "ipython3",
   "version": "3.11.4"
  }
 },
 "nbformat": 4,
 "nbformat_minor": 5
}
