{
 "cells": [
  {
   "cell_type": "markdown",
   "id": "58a53f8a",
   "metadata": {},
   "source": [
    "# 条件语句\n"
   ]
  },
  {
   "cell_type": "markdown",
   "id": "e115795b",
   "metadata": {},
   "source": [
    "## 练习 3-1：求最大公因数\n"
   ]
  },
  {
   "cell_type": "code",
   "execution_count": 1,
   "id": "2f3838a3",
   "metadata": {},
   "outputs": [],
   "source": [
    "# 定义一个计算公因数的函数\n",
    "def factors(num):\n",
    "    '''返回一个由 num 的因数组成的列表'''\n",
    "    factorList = []\n",
    "    for i in range(1, num+1):\n",
    "        if num %i == 0:\n",
    "            factorList.append(i)\n",
    "    return factorList\n",
    "\n",
    "# 定义一个计算两个数最大公因数的函数\n",
    "def gcf(a, b):\n",
    "    factor_a = factors(a)\n",
    "    factor_b = factors(b)\n",
    "    max_factor = 0\n",
    "    for i in factor_a:\n",
    "        if i in factor_b:\n",
    "            if i > max_factor:\n",
    "                max_factor = i\n",
    "    return max_factor\n"
   ]
  },
  {
   "cell_type": "code",
   "execution_count": 2,
   "id": "e0cbe262",
   "metadata": {},
   "outputs": [
    {
     "data": {
      "text/plain": [
       "6"
      ]
     },
     "execution_count": 2,
     "metadata": {},
     "output_type": "execute_result"
    }
   ],
   "source": [
    "gcf(150, 138)"
   ]
  },
  {
   "cell_type": "markdown",
   "id": "80b586d6",
   "metadata": {},
   "source": [
    "## 海归漫步\n",
    "\n",
    "让海龟到处爬，并让它到边界时调整方向。\n"
   ]
  },
  {
   "cell_type": "code",
   "execution_count": 18,
   "id": "5d336830",
   "metadata": {},
   "outputs": [
    {
     "ename": "KeyboardInterrupt",
     "evalue": "",
     "output_type": "error",
     "traceback": [
      "\u001b[1;31m---------------------------------------------------------------------------\u001b[0m",
      "\u001b[1;31mKeyboardInterrupt\u001b[0m                         Traceback (most recent call last)",
      "Cell \u001b[1;32mIn[18], line 14\u001b[0m\n\u001b[0;32m     11\u001b[0m         \u001b[38;5;28;01mif\u001b[39;00m xcor() \u001b[38;5;241m>\u001b[39m\u001b[38;5;241m=\u001b[39m \u001b[38;5;241m200\u001b[39m \u001b[38;5;129;01mor\u001b[39;00m xcor() \u001b[38;5;241m<\u001b[39m\u001b[38;5;241m=\u001b[39m \u001b[38;5;241m-\u001b[39m\u001b[38;5;241m200\u001b[39m \u001b[38;5;129;01mor\u001b[39;00m ycor() \u001b[38;5;241m<\u001b[39m\u001b[38;5;241m=\u001b[39m \u001b[38;5;241m-\u001b[39m\u001b[38;5;241m200\u001b[39m \u001b[38;5;129;01mor\u001b[39;00m ycor() \u001b[38;5;241m>\u001b[39m\u001b[38;5;241m=\u001b[39m \u001b[38;5;241m200\u001b[39m:\n\u001b[0;32m     12\u001b[0m             lt(randint(\u001b[38;5;241m90\u001b[39m, \u001b[38;5;241m180\u001b[39m))\n\u001b[1;32m---> 14\u001b[0m wander()\n",
      "Cell \u001b[1;32mIn[18], line 10\u001b[0m, in \u001b[0;36mwander\u001b[1;34m()\u001b[0m\n\u001b[0;32m      8\u001b[0m \u001b[38;5;28;01mdef\u001b[39;00m \u001b[38;5;21mwander\u001b[39m():\n\u001b[0;32m      9\u001b[0m     \u001b[38;5;28;01mwhile\u001b[39;00m \u001b[38;5;28;01mTrue\u001b[39;00m:\n\u001b[1;32m---> 10\u001b[0m         fd(\u001b[38;5;241m10\u001b[39m)\n\u001b[0;32m     11\u001b[0m         \u001b[38;5;28;01mif\u001b[39;00m xcor() \u001b[38;5;241m>\u001b[39m\u001b[38;5;241m=\u001b[39m \u001b[38;5;241m200\u001b[39m \u001b[38;5;129;01mor\u001b[39;00m xcor() \u001b[38;5;241m<\u001b[39m\u001b[38;5;241m=\u001b[39m \u001b[38;5;241m-\u001b[39m\u001b[38;5;241m200\u001b[39m \u001b[38;5;129;01mor\u001b[39;00m ycor() \u001b[38;5;241m<\u001b[39m\u001b[38;5;241m=\u001b[39m \u001b[38;5;241m-\u001b[39m\u001b[38;5;241m200\u001b[39m \u001b[38;5;129;01mor\u001b[39;00m ycor() \u001b[38;5;241m>\u001b[39m\u001b[38;5;241m=\u001b[39m \u001b[38;5;241m200\u001b[39m:\n\u001b[0;32m     12\u001b[0m             lt(randint(\u001b[38;5;241m90\u001b[39m, \u001b[38;5;241m180\u001b[39m))\n",
      "File \u001b[1;32m<string>:8\u001b[0m, in \u001b[0;36mfd\u001b[1;34m(distance)\u001b[0m\n",
      "File \u001b[1;32mD:\\CONDA\\math-adventure\\Lib\\turtle.py:1638\u001b[0m, in \u001b[0;36mTNavigator.forward\u001b[1;34m(self, distance)\u001b[0m\n\u001b[0;32m   1617\u001b[0m \u001b[38;5;28;01mdef\u001b[39;00m \u001b[38;5;21mforward\u001b[39m(\u001b[38;5;28mself\u001b[39m, distance):\n\u001b[0;32m   1618\u001b[0m \u001b[38;5;250m    \u001b[39m\u001b[38;5;124;03m\"\"\"Move the turtle forward by the specified distance.\u001b[39;00m\n\u001b[0;32m   1619\u001b[0m \n\u001b[0;32m   1620\u001b[0m \u001b[38;5;124;03m    Aliases: forward | fd\u001b[39;00m\n\u001b[1;32m   (...)\u001b[0m\n\u001b[0;32m   1636\u001b[0m \u001b[38;5;124;03m    (-50.00,0.00)\u001b[39;00m\n\u001b[0;32m   1637\u001b[0m \u001b[38;5;124;03m    \"\"\"\u001b[39;00m\n\u001b[1;32m-> 1638\u001b[0m     \u001b[38;5;28mself\u001b[39m\u001b[38;5;241m.\u001b[39m_go(distance)\n",
      "File \u001b[1;32mD:\\CONDA\\math-adventure\\Lib\\turtle.py:1606\u001b[0m, in \u001b[0;36mTNavigator._go\u001b[1;34m(self, distance)\u001b[0m\n\u001b[0;32m   1604\u001b[0m \u001b[38;5;250m\u001b[39m\u001b[38;5;124;03m\"\"\"move turtle forward by specified distance\"\"\"\u001b[39;00m\n\u001b[0;32m   1605\u001b[0m ende \u001b[38;5;241m=\u001b[39m \u001b[38;5;28mself\u001b[39m\u001b[38;5;241m.\u001b[39m_position \u001b[38;5;241m+\u001b[39m \u001b[38;5;28mself\u001b[39m\u001b[38;5;241m.\u001b[39m_orient \u001b[38;5;241m*\u001b[39m distance\n\u001b[1;32m-> 1606\u001b[0m \u001b[38;5;28mself\u001b[39m\u001b[38;5;241m.\u001b[39m_goto(ende)\n",
      "File \u001b[1;32mD:\\CONDA\\math-adventure\\Lib\\turtle.py:3212\u001b[0m, in \u001b[0;36mRawTurtle._goto\u001b[1;34m(self, end)\u001b[0m\n\u001b[0;32m   3209\u001b[0m \u001b[38;5;28;01mif\u001b[39;00m \u001b[38;5;28mlen\u001b[39m(\u001b[38;5;28mself\u001b[39m\u001b[38;5;241m.\u001b[39mcurrentLine) \u001b[38;5;241m>\u001b[39m \u001b[38;5;241m42\u001b[39m: \u001b[38;5;66;03m# 42! answer to the ultimate question\u001b[39;00m\n\u001b[0;32m   3210\u001b[0m                                \u001b[38;5;66;03m# of life, the universe and everything\u001b[39;00m\n\u001b[0;32m   3211\u001b[0m     \u001b[38;5;28mself\u001b[39m\u001b[38;5;241m.\u001b[39m_newLine()\n\u001b[1;32m-> 3212\u001b[0m \u001b[38;5;28mself\u001b[39m\u001b[38;5;241m.\u001b[39m_update()\n",
      "File \u001b[1;32mD:\\CONDA\\math-adventure\\Lib\\turtle.py:2664\u001b[0m, in \u001b[0;36mRawTurtle._update\u001b[1;34m(self)\u001b[0m\n\u001b[0;32m   2662\u001b[0m     \u001b[38;5;28mself\u001b[39m\u001b[38;5;241m.\u001b[39m_drawturtle()\n\u001b[0;32m   2663\u001b[0m     screen\u001b[38;5;241m.\u001b[39m_update()                  \u001b[38;5;66;03m# TurtleScreenBase\u001b[39;00m\n\u001b[1;32m-> 2664\u001b[0m     screen\u001b[38;5;241m.\u001b[39m_delay(screen\u001b[38;5;241m.\u001b[39m_delayvalue) \u001b[38;5;66;03m# TurtleScreenBase\u001b[39;00m\n\u001b[0;32m   2665\u001b[0m \u001b[38;5;28;01melse\u001b[39;00m:\n\u001b[0;32m   2666\u001b[0m     \u001b[38;5;28mself\u001b[39m\u001b[38;5;241m.\u001b[39m_update_data()\n",
      "File \u001b[1;32mD:\\CONDA\\math-adventure\\Lib\\turtle.py:566\u001b[0m, in \u001b[0;36mTurtleScreenBase._delay\u001b[1;34m(self, delay)\u001b[0m\n\u001b[0;32m    564\u001b[0m \u001b[38;5;28;01mdef\u001b[39;00m \u001b[38;5;21m_delay\u001b[39m(\u001b[38;5;28mself\u001b[39m, delay):\n\u001b[0;32m    565\u001b[0m \u001b[38;5;250m    \u001b[39m\u001b[38;5;124;03m\"\"\"Delay subsequent canvas actions for delay ms.\"\"\"\u001b[39;00m\n\u001b[1;32m--> 566\u001b[0m     \u001b[38;5;28mself\u001b[39m\u001b[38;5;241m.\u001b[39mcv\u001b[38;5;241m.\u001b[39mafter(delay)\n",
      "File \u001b[1;32mD:\\CONDA\\math-adventure\\Lib\\tkinter\\__init__.py:856\u001b[0m, in \u001b[0;36mMisc.after\u001b[1;34m(self, ms, func, *args)\u001b[0m\n\u001b[0;32m    848\u001b[0m \u001b[38;5;250m\u001b[39m\u001b[38;5;124;03m\"\"\"Call function once after given time.\u001b[39;00m\n\u001b[0;32m    849\u001b[0m \n\u001b[0;32m    850\u001b[0m \u001b[38;5;124;03mMS specifies the time in milliseconds. FUNC gives the\u001b[39;00m\n\u001b[0;32m    851\u001b[0m \u001b[38;5;124;03mfunction which shall be called. Additional parameters\u001b[39;00m\n\u001b[0;32m    852\u001b[0m \u001b[38;5;124;03mare given as parameters to the function call.  Return\u001b[39;00m\n\u001b[0;32m    853\u001b[0m \u001b[38;5;124;03midentifier to cancel scheduling with after_cancel.\"\"\"\u001b[39;00m\n\u001b[0;32m    854\u001b[0m \u001b[38;5;28;01mif\u001b[39;00m func \u001b[38;5;129;01mis\u001b[39;00m \u001b[38;5;28;01mNone\u001b[39;00m:\n\u001b[0;32m    855\u001b[0m     \u001b[38;5;66;03m# I'd rather use time.sleep(ms*0.001)\u001b[39;00m\n\u001b[1;32m--> 856\u001b[0m     \u001b[38;5;28mself\u001b[39m\u001b[38;5;241m.\u001b[39mtk\u001b[38;5;241m.\u001b[39mcall(\u001b[38;5;124m'\u001b[39m\u001b[38;5;124mafter\u001b[39m\u001b[38;5;124m'\u001b[39m, ms)\n\u001b[0;32m    857\u001b[0m     \u001b[38;5;28;01mreturn\u001b[39;00m \u001b[38;5;28;01mNone\u001b[39;00m\n\u001b[0;32m    858\u001b[0m \u001b[38;5;28;01melse\u001b[39;00m:\n",
      "\u001b[1;31mKeyboardInterrupt\u001b[0m: "
     ]
    }
   ],
   "source": [
    "from turtle import *\n",
    "from random import randint\n",
    "\n",
    "shape('turtle')\n",
    "speed(0)\n",
    "home()\n",
    "clear()\n",
    "def wander():\n",
    "    while True:\n",
    "        fd(10)\n",
    "        if xcor() >= 200 or xcor() <= -200 or ycor() <= -200 or ycor() >= 200:\n",
    "            lt(randint(90, 180))\n",
    "            \n",
    "wander()"
   ]
  },
  {
   "cell_type": "markdown",
   "id": "0891b953",
   "metadata": {},
   "source": [
    "## 练习 3-2：猜平方根\n",
    "\n",
    "利用猜数字游戏，逼近正整数的平方根。\n"
   ]
  },
  {
   "cell_type": "code",
   "execution_count": 69,
   "id": "eff0f133",
   "metadata": {},
   "outputs": [],
   "source": [
    "# 定义一个平均值\n",
    "def average(a, b):\n",
    "    return (a + b)/2\n",
    "\n",
    "def squareRoot(num, low, high):\n",
    "    '''采用猜数字策略，在 low 到 high 之间猜出 num 的平方根'''\n",
    "    for i in range(100):\n",
    "        guess = average(low, high)\n",
    "        if guess**2 == num:\n",
    "            print(\"Yeah! You got it. The square root of\", num, \"is\", guess)\n",
    "            return\n",
    "        elif guess**2 > num:\n",
    "            high = guess\n",
    "        else:\n",
    "            low = guess\n",
    "    print(\"Your guess is\", guess, \"but the square root of\",num, \"is\", num**0.5)"
   ]
  },
  {
   "cell_type": "code",
   "execution_count": 70,
   "id": "e8b3dad4",
   "metadata": {},
   "outputs": [
    {
     "name": "stdout",
     "output_type": "stream",
     "text": [
      "Your guess is 14.142135623730951 but the square root of 200 is 14.142135623730951\n"
     ]
    }
   ],
   "source": [
    "squareRoot(200, 10, 20)"
   ]
  },
  {
   "cell_type": "code",
   "execution_count": 71,
   "id": "d69cdf15",
   "metadata": {},
   "outputs": [
    {
     "name": "stdout",
     "output_type": "stream",
     "text": [
      "Yeah! You got it. The square root of 1000 is 31.622776601683793\n"
     ]
    }
   ],
   "source": [
    "squareRoot(1000, 10, 100)"
   ]
  },
  {
   "cell_type": "code",
   "execution_count": 72,
   "id": "03fecd86",
   "metadata": {},
   "outputs": [
    {
     "name": "stdout",
     "output_type": "stream",
     "text": [
      "Your guess is 44.721359549995796 but the square root of 2000 is 44.721359549995796\n"
     ]
    }
   ],
   "source": [
    "squareRoot(2000, 1, 500)"
   ]
  },
  {
   "cell_type": "code",
   "execution_count": null,
   "id": "8b49a1ac",
   "metadata": {},
   "outputs": [],
   "source": []
  }
 ],
 "metadata": {
  "kernelspec": {
   "display_name": "Python 3 (ipykernel)",
   "language": "python",
   "name": "python3"
  },
  "language_info": {
   "codemirror_mode": {
    "name": "ipython",
    "version": 3
   },
   "file_extension": ".py",
   "mimetype": "text/x-python",
   "name": "python",
   "nbconvert_exporter": "python",
   "pygments_lexer": "ipython3",
   "version": "3.11.4"
  }
 },
 "nbformat": 4,
 "nbformat_minor": 5
}
